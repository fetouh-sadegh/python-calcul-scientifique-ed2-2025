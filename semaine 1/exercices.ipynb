{
 "cells": [
  {
   "cell_type": "code",
   "execution_count": 3,
   "id": "7d016a1f-c43c-4b9a-a0f3-bc9c862f15b3",
   "metadata": {},
   "outputs": [
    {
     "data": {
      "text/plain": [
       "False"
      ]
     },
     "execution_count": 3,
     "metadata": {},
     "output_type": "execute_result"
    }
   ],
   "source": [
    "#ex1\n",
    "def f(x):\n",
    " return x**2-0.25*x + 5;\n",
    "f(2.3)==0"
   ]
  },
  {
   "cell_type": "code",
   "execution_count": 16,
   "id": "d7621074-7ef4-467c-9b71-900d40b630c5",
   "metadata": {},
   "outputs": [
    {
     "data": {
      "text/plain": [
       "False"
      ]
     },
     "execution_count": 16,
     "metadata": {},
     "output_type": "execute_result"
    }
   ],
   "source": [
    "#ex2\n",
    "import cmath\n",
    "def f(x,n):\n",
    "    return (cmath.cos(x)+1j*cmath.sin(x))**n==cmath.cos(n*x)+1j*cmath.sin(n*x)\n",
    "f(3,4)"
   ]
  },
  {
   "cell_type": "code",
   "execution_count": 17,
   "id": "147fd473-94d5-416d-a392-6b90d11436eb",
   "metadata": {},
   "outputs": [
    {
     "data": {
      "text/plain": [
       "True"
      ]
     },
     "execution_count": 17,
     "metadata": {},
     "output_type": "execute_result"
    }
   ],
   "source": [
    "import cmath\n",
    "\n",
    "def verify_euler(x):\n",
    "    return cmath.exp(1j*x) == cmath.cos(x) + 1j*cmath.sin(x)\n",
    "\n",
    "verify_euler(3)\n"
   ]
  },
  {
   "cell_type": "code",
   "execution_count": 26,
   "id": "c40b0a71-55b8-424b-952e-63b227a9321f",
   "metadata": {},
   "outputs": [
    {
     "name": "stdout",
     "output_type": "stream",
     "text": [
      "No convergence\n"
     ]
    }
   ],
   "source": [
    "#ex4\n",
    "u = 1 # you have to use a float here!\n",
    "uold = 10.\n",
    "for iteration in range(2000):\n",
    " if abs(u-uold) < 1.e-8:\n",
    "  print('Convergence')\n",
    "  break # sequence has converged\n",
    " uold = u\n",
    " u = 2*u\n",
    "else:\n",
    "  print('No convergence')\n",
    "#Using u = 1 instead of 1.0 makes no difference because Python converts to float during math."
   ]
  },
  {
   "cell_type": "code",
   "execution_count": null,
   "id": "50539380-f229-4a87-afdc-cd1d05814b3f",
   "metadata": {},
   "outputs": [],
   "source": [
    "#ex5\n",
    "a=True\n",
    "b=False\n",
    "c=False\n",
    "if((a and b) or not a):\n",
    " c=True\n",
    "else :\n",
    " c=False\n",
    "print(c)"
   ]
  },
  {
   "cell_type": "code",
   "execution_count": null,
   "id": "f81614bf-2be0-4caf-bcf8-473832d20697",
   "metadata": {},
   "outputs": [],
   "source": []
  },
  {
   "cell_type": "code",
   "execution_count": null,
   "id": "9be55418-cce4-4319-82f3-ab32b0a2978f",
   "metadata": {},
   "outputs": [],
   "source": [
    "#ex6\n"
   ]
  }
 ],
 "metadata": {
  "kernelspec": {
   "display_name": "Python 3 (ipykernel)",
   "language": "python",
   "name": "python3"
  },
  "language_info": {
   "codemirror_mode": {
    "name": "ipython",
    "version": 3
   },
   "file_extension": ".py",
   "mimetype": "text/x-python",
   "name": "python",
   "nbconvert_exporter": "python",
   "pygments_lexer": "ipython3",
   "version": "3.13.5"
  }
 },
 "nbformat": 4,
 "nbformat_minor": 5
}
